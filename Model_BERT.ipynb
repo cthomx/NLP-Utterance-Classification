{
 "cells": [
  {
   "cell_type": "code",
   "execution_count": 1,
   "metadata": {},
   "outputs": [
    {
     "name": "stderr",
     "output_type": "stream",
     "text": [
      "/home/ct/miniconda3/envs/torchEnv/lib/python3.8/site-packages/tqdm/auto.py:22: TqdmWarning: IProgress not found. Please update jupyter and ipywidgets. See https://ipywidgets.readthedocs.io/en/stable/user_install.html\n",
      "  from .autonotebook import tqdm as notebook_tqdm\n"
     ]
    }
   ],
   "source": [
    "################################# SOURCE #################################\n",
    "# much of the code in Part 7 was taken from the following sources...\n",
    "# these sources break down the pre-trained BERT model and enable users to \n",
    "# predict on SK-Learn models \n",
    "# source 1: https://jalammar.github.io/a-visual-guide-to-using-bert-for-the-first-time/\n",
    "# source 2: https://github.com/jalammar/jalammar.github.io/blob/master/notebooks/bert/A_Visual_Notebook_to_Using_BERT_for_the_First_Time.ipynb\n",
    "############################### END SOURCE ###############################\n",
    "\n",
    "import numpy as np\n",
    "import pandas as pd\n",
    "import transformers as ppb # torch transformers\n",
    "import torch\n",
    "from sklearn.neural_network import MLPClassifier\n",
    "from sklearn.model_selection import GridSearchCV \n",
    "from tqdm import tqdm\n",
    "from Model_ComputeMetrics import getEvaluationMetrics\n",
    "import Data_Processing as dp"
   ]
  },
  {
   "cell_type": "code",
   "execution_count": 2,
   "metadata": {},
   "outputs": [],
   "source": [
    "# get datasets\n",
    "train, test = dp.importData()\n",
    "train, test, X_train, X_test = dp.filterData(train, test)"
   ]
  },
  {
   "cell_type": "code",
   "execution_count": 3,
   "metadata": {},
   "outputs": [],
   "source": [
    "labels_train_encoded, labels_encoded_test = dp.initalizeLabels(train, test) # encode labels"
   ]
  },
  {
   "cell_type": "code",
   "execution_count": 4,
   "metadata": {},
   "outputs": [
    {
     "name": "stderr",
     "output_type": "stream",
     "text": [
      "Some weights of the model checkpoint at distilbert-base-uncased were not used when initializing DistilBertModel: ['vocab_layer_norm.weight', 'vocab_layer_norm.bias', 'vocab_transform.weight', 'vocab_projector.bias', 'vocab_projector.weight', 'vocab_transform.bias']\n",
      "- This IS expected if you are initializing DistilBertModel from the checkpoint of a model trained on another task or with another architecture (e.g. initializing a BertForSequenceClassification model from a BertForPreTraining model).\n",
      "- This IS NOT expected if you are initializing DistilBertModel from the checkpoint of a model that you expect to be exactly identical (initializing a BertForSequenceClassification model from a BertForSequenceClassification model).\n"
     ]
    }
   ],
   "source": [
    "# set up torch device\n",
    "device = torch.device(\"cuda:0\" if torch.cuda.is_available() else \"cpu\")\n",
    "\n",
    "# set up variables for processing\n",
    "model_class, tokenizer_class, pretrained_weights = (ppb.DistilBertModel, ppb.DistilBertTokenizer, 'distilbert-base-uncased')\n",
    "\n",
    "# load the tokenizer and the model of distilbert-base-uncased\n",
    "tokenizer = tokenizer_class.from_pretrained(pretrained_weights, do_lower_case=True)\n",
    "model = model_class.from_pretrained(pretrained_weights)\n",
    "\n",
    "# send the model to the GPU\n",
    "model = model.to(device)"
   ]
  },
  {
   "cell_type": "code",
   "execution_count": 5,
   "metadata": {},
   "outputs": [
    {
     "name": "stdout",
     "output_type": "stream",
     "text": [
      "There are  1000  batches based on  9796  utterances\n",
      "There are  100  batches based on  720  utterances\n"
     ]
    }
   ],
   "source": [
    "# split data into batches\n",
    "# source: https://www.geeksforgeeks.org/break-list-chunks-size-n-python/\n",
    "\n",
    "train_batches = np.array_split(pd.Series(train.utterance), 1000)\n",
    "print('There are ', len(train_batches), ' batches based on ', len(train.utterance), ' utterances')\n",
    "\n",
    "test_batches = np.array_split(pd.Series(test.utterance), 100)\n",
    "print('There are ', len(test_batches), ' batches based on ', len(test.utterance), ' utterances')"
   ]
  },
  {
   "cell_type": "code",
   "execution_count": 6,
   "metadata": {},
   "outputs": [
    {
     "name": "stderr",
     "output_type": "stream",
     "text": [
      "100%|██████████| 1000/1000 [00:28<00:00, 35.07it/s]\n",
      "100%|██████████| 100/100 [00:01<00:00, 50.62it/s]\n"
     ]
    }
   ],
   "source": [
    "# this function utilizes the pre-trained BERT model in batches to extract features\n",
    "# these features are then used in downstream models to predict classes\n",
    "\n",
    "def utilizeBERT(dataToModel):\n",
    "    \n",
    "    # create empty numpy array \n",
    "    output_features = np.empty((0,768), int)\n",
    "\n",
    "    for batch in tqdm(dataToModel):\n",
    "        # begin tokenization\n",
    "        # based on the Jalammar documentation, \"this step turns every sentence into a list of ids\"\n",
    "        tokenized = batch.apply(lambda x: tokenizer.encode(x, add_special_tokens=True, max_length=512, truncation=True))\n",
    "\n",
    "        # padding the data\n",
    "        # Jalammar: \"Before DistilBERT can process this as input, we’ll need to make all the vectors the same size by padding shorter sentences with the token id 0\"\n",
    "        max_len = 0\n",
    "        for i in tokenized.values:\n",
    "            if len(i) > max_len:\n",
    "                max_len = len(i)\n",
    "\n",
    "        padded = np.array([i + [0]*(max_len-len(i)) for i in tokenized.values])\n",
    "\n",
    "        # mask the data -> we tell BERT to ignore the padding when processing the input \n",
    "        attention_mask = np.where(padded != 0, 1, 0)\n",
    "\n",
    "        # now run the model and return the \"last_hidden_states\" which is actually the model output\n",
    "        input_ids = torch.tensor(padded)\n",
    "        attention_mask = torch.tensor(attention_mask)\n",
    "\n",
    "        # send tensors to GPU\n",
    "        input_ids = input_ids.to(device)\n",
    "        attention_mask = attention_mask.to(device)\n",
    "\n",
    "        with torch.no_grad():\n",
    "            last_hidden_states = model(input_ids, attention_mask=attention_mask)\n",
    "\n",
    "        # extract features from the model state\n",
    "        features = last_hidden_states[0][:,0,:].cpu().numpy()\n",
    "        output_features = np.append(output_features, features, axis=0)\n",
    "\n",
    "        # clean up memory\n",
    "        del input_ids\n",
    "        del attention_mask\n",
    "        del last_hidden_states\n",
    "        torch.cuda.empty_cache()\n",
    "        \n",
    "    return output_features\n",
    "    \n",
    "train_features = utilizeBERT(train_batches)\n",
    "test_features = utilizeBERT(test_batches)"
   ]
  },
  {
   "cell_type": "code",
   "execution_count": 7,
   "metadata": {},
   "outputs": [],
   "source": [
    "# MLP\n",
    "clf = MLPClassifier()\n",
    "clf.fit(train_features, np.array(labels_train_encoded))\n",
    "train_predicted_labels = clf.predict(train_features)"
   ]
  },
  {
   "cell_type": "code",
   "execution_count": 8,
   "metadata": {},
   "outputs": [],
   "source": [
    "# predict on the test set\n",
    "\n",
    "predictions = clf.predict(test_features)"
   ]
  },
  {
   "cell_type": "code",
   "execution_count": 9,
   "metadata": {},
   "outputs": [
    {
     "name": "stdout",
     "output_type": "stream",
     "text": [
      "Training Accuracy: 0.93\n",
      "f1 score using MLP classifier is : 0.93\n"
     ]
    },
    {
     "data": {
      "image/png": "[encoded data removed]",
      "text/plain": [
       "<Figure size 640x480 with 2 Axes>"
      ]
     },
     "metadata": {},
     "output_type": "display_data"
    }
   ],
   "source": [
    "# do some evaluation on the training set\n",
    "\n",
    "getEvaluationMetrics(np.array(labels_train_encoded), train_predicted_labels, 'MLP ', 'Training')"
   ]
  },
  {
   "cell_type": "code",
   "execution_count": 10,
   "metadata": {},
   "outputs": [
    {
     "name": "stdout",
     "output_type": "stream",
     "text": [
      "Test Accuracy: 0.64\n",
      "f1 score using MLP classifier is : 0.64\n"
     ]
    },
    {
     "data": {
      "image/png": "[encoded data removed]",
      "text/plain": [
       "<Figure size 640x480 with 2 Axes>"
      ]
     },
     "metadata": {},
     "output_type": "display_data"
    }
   ],
   "source": [
    "# do some evaluation on the test set\n",
    "\n",
    "getEvaluationMetrics(np.array(labels_encoded_test), predictions, 'MLP ', 'Test')"
   ]
  }
 ],
 "metadata": {
  "kernelspec": {
   "display_name": "torchEnv",
   "language": "python",
   "name": "python3"
  },
  "language_info": {
   "codemirror_mode": {
    "name": "ipython",
    "version": 3
   },
   "file_extension": ".py",
   "mimetype": "text/x-python",
   "name": "python",
   "nbconvert_exporter": "python",
   "pygments_lexer": "ipython3",
   "version": "3.8.15"
  },
  "orig_nbformat": 4,
  "vscode": {
   "interpreter": {
    "hash": "51ad28babd964a7f01c7c4322775a79a6f591465a2b92ab80f54ff53c0b06e51"
   }
  }
 },
 "nbformat": 4,
 "nbformat_minor": 2
}
